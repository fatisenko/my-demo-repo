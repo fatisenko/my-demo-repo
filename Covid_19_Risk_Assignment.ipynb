{
  "nbformat": 4,
  "nbformat_minor": 0,
  "metadata": {
    "colab": {
      "name": "Covid- 19 Risk Assignment.ipynb",
      "provenance": []
    },
    "kernelspec": {
      "name": "python3",
      "display_name": "Python 3"
    },
    "language_info": {
      "name": "python"
    }
  },
  "cells": [
    {
      "cell_type": "code",
      "metadata": {
        "colab": {
          "base_uri": "https://localhost:8080/"
        },
        "id": "OKJJ64GJVWJX",
        "outputId": "af60c923-16a0-4137-90b6-203294aff0ac"
      },
      "source": [
        "age =  input(\"Are you a cigarette addict older than 75 years old? Write only yes or no \").lower()\n",
        "chronic =  input(\"Do you have a severe chronic disease? Write only yes or no \").lower()\n",
        "immune =  input(\"Is your immune system too weak? Write only yes or no \").lower()\n",
        "if age =='yes' or chronic =='yes' or immune =='yes':\n",
        "  risk = True\n",
        "else :\n",
        "  risk = False\n",
        "print(risk)    "
      ],
      "execution_count": 3,
      "outputs": [
        {
          "output_type": "stream",
          "name": "stdout",
          "text": [
            "Are you a cigarette addict older than 75 years old? Write only yes or no YES\n",
            "Do you have a severe chronic disease? Write only yes or no NO\n",
            "Is your immune system too weak? Write only yes or no NO\n",
            "True\n"
          ]
        }
      ]
    },
    {
      "cell_type": "code",
      "metadata": {
        "id": "SZrn4nvJXDT1"
      },
      "source": [
        ""
      ],
      "execution_count": null,
      "outputs": []
    }
  ]
}