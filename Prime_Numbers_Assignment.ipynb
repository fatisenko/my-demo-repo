{
  "nbformat": 4,
  "nbformat_minor": 0,
  "metadata": {
    "colab": {
      "name": "Prime Numbers Assignment.ipynb",
      "provenance": [],
      "collapsed_sections": []
    },
    "kernelspec": {
      "name": "python3",
      "display_name": "Python 3"
    },
    "language_info": {
      "name": "python"
    }
  },
  "cells": [
    {
      "cell_type": "code",
      "metadata": {
        "colab": {
          "base_uri": "https://localhost:8080/"
        },
        "id": "8kWZfjsazT01",
        "outputId": "8223bc62-eeaa-4fab-92d5-e767488473aa"
      },
      "source": [
        "number = int(input(\"give a number : \"))\n",
        "counter = 0\n",
        "for i in range(1,number):\n",
        "  if number % i == 0 :\n",
        "    counter += 1\n",
        "if number ==1 or counter > 2 :\n",
        "  print(number, \"is not a prime number\")\n",
        "else :\n",
        "  print(number, \"is a prime number\")  "
      ],
      "execution_count": 7,
      "outputs": [
        {
          "output_type": "stream",
          "name": "stdout",
          "text": [
            "give a number : 2\n",
            "2 is a prime number\n"
          ]
        }
      ]
    },
    {
      "cell_type": "code",
      "metadata": {
        "id": "q4WHhsMv0Rq9"
      },
      "source": [
        ""
      ],
      "execution_count": 6,
      "outputs": []
    }
  ]
}