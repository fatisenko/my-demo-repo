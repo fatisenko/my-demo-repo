{
  "nbformat": 4,
  "nbformat_minor": 0,
  "metadata": {
    "colab": {
      "name": "Armstrong Number Assignment .ipynb",
      "provenance": [],
      "collapsed_sections": []
    },
    "kernelspec": {
      "name": "python3",
      "display_name": "Python 3"
    },
    "language_info": {
      "name": "python"
    }
  },
  "cells": [
    {
      "cell_type": "code",
      "metadata": {
        "colab": {
          "base_uri": "https://localhost:8080/"
        },
        "id": "mnUR93OaZulG",
        "outputId": "af82d565-a129-410b-a872-0bfd076318a8"
      },
      "source": [
        "num = input(\"give a number : \")\n",
        "sum = 0\n",
        "if num.isdigit() and int(num) >= 0:\n",
        "  for i in num:\n",
        "    sum += pow(int(i), len(num))\n",
        "  if sum == int(num) :\n",
        "    print(num, \"is an Armstrong number\" )\n",
        "  else:\n",
        "    print(num, \"is not an Armstrong number\")  \n",
        "else:\n",
        "  print(\" It is an invalid entry. Don't use non-numeric, float, or negative values!\")    "
      ],
      "execution_count": 20,
      "outputs": [
        {
          "output_type": "stream",
          "name": "stdout",
          "text": [
            "give a number : tyh\n",
            " It is an invalid entry. Don't use non-numeric, float, or negative values!\n"
          ]
        }
      ]
    }
  ]
}