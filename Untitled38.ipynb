{
  "nbformat": 4,
  "nbformat_minor": 0,
  "metadata": {
    "colab": {
      "name": "Untitled38.ipynb",
      "provenance": [],
      "collapsed_sections": []
    },
    "kernelspec": {
      "name": "python3",
      "display_name": "Python 3"
    },
    "language_info": {
      "name": "python"
    }
  },
  "cells": [
    {
      "cell_type": "code",
      "metadata": {
        "colab": {
          "base_uri": "https://localhost:8080/"
        },
        "id": "Wjgq2oejRR3z",
        "outputId": "04d320c4-f526-44e9-adc7-cda63df8d4c5"
      },
      "source": [
        "name = \"Fatih\"\n",
        "name2 = input(\"Please, write your name: \").title()\n",
        "password = \"Aws35\"\n",
        "if name2 == name:\n",
        "  print(\"Hello\", name, \"The password is : \", password)\n",
        "else:\n",
        "  print(\"Hello\", name2, \"See you later\")  "
      ],
      "execution_count": 2,
      "outputs": [
        {
          "output_type": "stream",
          "name": "stdout",
          "text": [
            "Please, write your name: fatih\n",
            "Hello Fatih The password is :  Aws35\n"
          ]
        }
      ]
    },
    {
      "cell_type": "code",
      "metadata": {
        "id": "UApOoGh2SDm8"
      },
      "source": [
        ""
      ],
      "execution_count": null,
      "outputs": []
    }
  ]
}